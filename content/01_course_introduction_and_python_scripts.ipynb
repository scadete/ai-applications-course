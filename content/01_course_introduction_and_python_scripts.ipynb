{
  "cells": [
    {
      "cell_type": "markdown",
      "metadata": {
        "id": "z3R44y8XrQdz"
      },
      "source": [
        "# Aula 01 - Introdução ao curso, Jupyter e Scripts Python"
      ]
    },
    {
      "cell_type": "markdown",
      "metadata": {
        "id": "38BNqgkwsoTM"
      },
      "source": [
        "## 1. Introdução\n",
        "\n",
        "Neste módulo serão apresentadas as princiapais motivações para uso de Inteligência Artificial (IA) e os conceitos básicos de ferramentas que serão utilizados ao longo do curso.\n",
        "\n",
        "A Inteligência Artificial ganhou muita popularidade com o ChatGPT, mas a área tem uma longa e rica jornada com outras áreas, desafios e aplicações que podem ser abordados.\n",
        "\n",
        "Este curso aborda introduz conceitos fundamentais de IA e explora aplicações de diferentes modalidades como visão computacional, processamento de linguagem natural, processamento de áudio, tudo em abordagens práticas e de fácil execução.\n",
        "\n",
        "O objetivo é desmistificar o uso da tecnologia e potencializar a descoberta de novas aplicações a partir desse conhecimento. Como objetivos secundários, é esperado que novas aplicações sejam propostas para gerar valor para o ecossistema engajado na iniciativa."
      ]
    },
    {
      "cell_type": "markdown",
      "metadata": {
        "id": "zfXh43P40UdJ"
      },
      "source": [
        "## 2. Cadernos Jupyter\n"
      ]
    },
    {
      "cell_type": "markdown",
      "metadata": {
        "id": "cAQyKpHe1hRl"
      },
      "source": [
        "Este ambiente é um caderno interativo e será a plataforma base para o curso. O nome desta plataforma é Jupyter Notebook.\n",
        "\n",
        "O Jupyter Notebook é uma plataforma interativa, onde você pode escrever código e texto, e fazer visualizações. Jupyter é um acrônimo aproximado que significa **Ju**lia, **Pyt**hon **e R**. No entanto, agora ele suporta Ruby, Haskell, Scala, Go, etc, além de Julia, Python e R. [1]\n",
        "\n",
        "Você pode acessar um Jupyter Notebook a partir de um ambiente local e também em serviços em nuvem. Neste curso utilizaremos os notebooks oferecidos a partir do ambiente Google Colab (https://colab.google).\n"
      ]
    },
    {
      "cell_type": "markdown",
      "metadata": {
        "id": "BEPw9TuP2pRl"
      },
      "source": [
        "**Célula de código:** Por padrão, uma célula é do tipo Código. Tente digitar uma linha de código em Python (por exemplo, 2+3) em uma célula de código vazia e execute-a pressionando *Shift+Enter*. Isso deve executar o código e criar uma nova célula de código. Pressionar *Ctrl+Enter* para Windows (ou Cmd+Enter para Mac) executará o código sem criar uma nova célula.\n",
        "\n",
        "**Comentando código em uma célula de código:** Comentários devem ser feitos enquanto se escreve o código para explicar o propósito do código ou uma breve explicação das tarefas sendo realizadas pelo código. Um comentário pode ser adicionado em uma célula de código precedendo-o com um sinal de *#*. Por exemplo, veja o comentário no código abaixo.\n",
        "\n",
        "Escrever comentários ajudará outros usuários a entender seu código. Também é útil para o programador manter o controle das tarefas sendo realizadas pelo seu código."
      ]
    },
    {
      "cell_type": "code",
      "execution_count": null,
      "metadata": {
        "id": "sxA80-Uy3mOT"
      },
      "outputs": [],
      "source": [
        "# Tente criar na linha abaixo um comando: 2+3\n",
        "\n",
        "# Para executar o código, execute usando Shift+Enter para executar e avançar"
      ]
    },
    {
      "cell_type": "markdown",
      "metadata": {
        "id": "-i_WfhI34MP-"
      },
      "source": [
        "**Célula Markdown:** Embora um comentário possa ser escrito em uma célula de código, uma célula de código não pode ser usada para escrever títulos/subtítulos, e não é apropriada para escrever grandes blocos de texto. Nestes casos, o ideal é usar a célula  Markdown. Tente editar esta ou qualquer outra célula de markdown do notebook clicando duas vezes sobre seu conteudo. Ao fim da edição, use o mesmo comando de execução para finalizar e avançar. [1]"
      ]
    },
    {
      "cell_type": "markdown",
      "metadata": {},
      "source": [
        "## 3. Python Básico\n",
        "\n",
        "Esta sessão descreve algumas características básicas da linguagem para acelerar a familiarização com a criação de scripts."
      ]
    },
    {
      "cell_type": "markdown",
      "metadata": {},
      "source": [
        "### 3.1. A linguagem\n",
        "\n",
        "Python é uma linguagem de programação de alto nível e interpretada. A seguir alguns detalhes sobre esses termos para melhor entendimento.\n",
        "\n",
        "- *Alto nível*: se aproxima da forma como humanos falam e estruturam instruções\n",
        "\n",
        "- *Baixo nível*: representação róxima de como as maquinas operam e calculam resultados\n",
        "\n",
        "- *Interpretada*: um interpretador executa o código\n",
        "\n",
        "- *Compilada*: um compilador transforma o código fonte em código objeto (ou executável) para então ser executado \n",
        "\n",
        "\n",
        "Existem duas formas de usar o interpretador. No modo linha de comando, quando o interpretador é aberto diretamente no terminal por exemplo, ou no modo de script. Neste último, você pode escrever um programa em um arquivo e executar seu conteúdo. Normalmente os scripts python possuem a extensão *.py*.\n",
        "\n",
        "Um caderno jupyter (arquivos de extensão *.ipynb*) tem seu código executado como sendo equivalente a um script python.\n",
        "\n",
        "Uma diferença importante em sua utilização é que no notebook, cada bloco de código pode ser executado individualmente e será impresso no próprio notebook seu resultado ou a saída das funções de escrita (como *print*) que forem executadas. Experimente a seguir e compare os resultados:"
      ]
    },
    {
      "cell_type": "code",
      "execution_count": null,
      "metadata": {},
      "outputs": [],
      "source": [
        "print (\"Olá\")\n",
        "print (\"Mundo\")\n",
        "0"
      ]
    },
    {
      "cell_type": "code",
      "execution_count": null,
      "metadata": {},
      "outputs": [],
      "source": [
        "\"Olá\"\n",
        "\"Mundo\"\n",
        "0"
      ]
    },
    {
      "cell_type": "markdown",
      "metadata": {},
      "source": [
        "Reflita sobre a diferença dos resultados obtidos ao executar as células anteriores. O que são os resultados do trecho de script executado?"
      ]
    },
    {
      "cell_type": "markdown",
      "metadata": {},
      "source": [
        "### 3.2. Erros e Depuração\n",
        "\n",
        "Por uma curiosidade histórica, erros em programas são chamados de *bugs*. O processo de investigação para corrigí-los é chamado de *debugging*. Em português, o verbo usado é depurar. \n",
        "\n",
        "Conhecer previamente os tipos de erros possíveis pode ajudar na investigação e solução de problemas."
      ]
    },
    {
      "cell_type": "markdown",
      "metadata": {},
      "source": [
        "#### 3.2.1. Erros de Sintaxe\n",
        "Um código só é executado se ele estiver sintaticamente correto, caso contrário falhará e retornará com uma mensagem de erro.\n",
        "\n",
        "A **sintaxe** contempla a estrutura e regras de escrita da linguagem. Atualmente, várias ferramentas de edição apontam os erros antes mesmo de tentarmos executar um código."
      ]
    },
    {
      "cell_type": "code",
      "execution_count": null,
      "metadata": {},
      "outputs": [],
      "source": [
        "# Corrija o possível erro de sintaxe\n",
        "# O valor 1 deve ser atribuído à variável x\n",
        "x := 1"
      ]
    },
    {
      "cell_type": "markdown",
      "metadata": {},
      "source": [
        "#### 3.2.2. Erros de tempo de execução (*Runtime*)\n",
        "Erros que acontecem quando o programa é executado. Podem ser chamados de **exceções**, por ser um fluxo excepcional na execução do código.\n",
        "\n",
        "Investigue o código a seguir para substituir um valor e corrigir o erro."
      ]
    },
    {
      "cell_type": "code",
      "execution_count": null,
      "metadata": {},
      "outputs": [],
      "source": [
        "a = 3.8 / 34 * 0 * (9**3/2) \n",
        "print(2/a)"
      ]
    },
    {
      "cell_type": "markdown",
      "metadata": {},
      "source": [
        "Em programas mais complexos é interessante conhecer os possíveis fluxos de exceção e dar o devido tratamento ou resposta ao usuário caso venha a ocorrer.\n",
        "\n",
        "O bloco try-except captura exceções ocorridas no bloco *try* e aciona o código correspondente do *except*."
      ]
    },
    {
      "cell_type": "code",
      "execution_count": null,
      "metadata": {},
      "outputs": [],
      "source": [
        "try:\n",
        "    print(2/0)\n",
        "except ZeroDivisionError:\n",
        "    print(\"Você não pode dividir por zero!\")"
      ]
    },
    {
      "cell_type": "markdown",
      "metadata": {},
      "source": [
        "#### 3.2.3 Erros de Semântica\n",
        "Esse é o erro de lógica. Não será identificado na execução ou validação sintática. Seu resultado não é esperado. Digamos que queiramos replicar a seguinte equaçao para obter seu resultado.\n",
        "\n",
        "$$\n",
        "y = [(1 + 4) + 2] * 3 \n",
        "$$\n",
        "\n",
        "Avalie o retorno da célula a seguir e compare com o esperado."
      ]
    },
    {
      "cell_type": "code",
      "execution_count": null,
      "metadata": {},
      "outputs": [],
      "source": [
        "y = [(1 + 4) + 2] * 3\n",
        "print (y)"
      ]
    },
    {
      "cell_type": "markdown",
      "metadata": {},
      "source": [
        "### 3.3. Características da Linguagem\n",
        "Python é uma linguagem orientada a objetos. Isso significa que todo número, string, estrutura de dados, função, classe, módulo, etc. existe no interpretador como um objeto python. Por sua vez, cada objeto possui seus próprios atributos e métodos.\n"
      ]
    },
    {
      "cell_type": "markdown",
      "metadata": {},
      "source": [
        "#### 3.3.1. Orientação a Objetos\n",
        "- **Atributo**: valor associado a um objeto, definido na classe do objeto\n",
        "- **Método**: função associada ao objetio, definido na classe do objeto. Tem acesso aos atributos associados ao objeto."
      ]
    },
    {
      "cell_type": "code",
      "execution_count": null,
      "metadata": {},
      "outputs": [],
      "source": [
        "class example_class:\n",
        "    class_name = 'My Class'\n",
        "    def my_method(self):\n",
        "        print('Olá Mundo!')\n",
        "\n",
        "e = example_class()"
      ]
    },
    {
      "cell_type": "markdown",
      "metadata": {},
      "source": [
        "Nesse exemplo, *class_name* é um atributo, *my_method* é um método. [1]"
      ]
    },
    {
      "cell_type": "markdown",
      "metadata": {},
      "source": [
        "#### 3.3.2. Chamada por referência\n",
        "A forma como variáveis são referenciadas por seus nomes é uma característica importante de notar. Observe o exemplo a seguir."
      ]
    },
    {
      "cell_type": "code",
      "execution_count": null,
      "metadata": {},
      "outputs": [],
      "source": [
        "x = [8, 87]"
      ]
    },
    {
      "cell_type": "markdown",
      "metadata": {},
      "source": [
        "O nome x é uma referência à memória onde o valor está armazenado. Agora vamos atribuir x auma nova variável y:"
      ]
    },
    {
      "cell_type": "code",
      "execution_count": null,
      "metadata": {},
      "outputs": [],
      "source": [
        "y = x"
      ]
    },
    {
      "cell_type": "markdown",
      "metadata": {},
      "source": [
        "Neste instante não foi criada uma cópia, mas y passou a referenciar a mesma informação que x. Para provar, vamos modificar um deles e verificar o resultado.\n"
      ]
    },
    {
      "cell_type": "code",
      "execution_count": null,
      "metadata": {},
      "outputs": [],
      "source": [
        "y.append(24)\n",
        "print (y)"
      ]
    },
    {
      "cell_type": "code",
      "execution_count": null,
      "metadata": {},
      "outputs": [],
      "source": [
        "print (x)"
      ]
    },
    {
      "cell_type": "markdown",
      "metadata": {},
      "source": [
        "Note que ao alterar o valor de uma variável também refletiu na outra. Isso porque ambas referenciam a mesma informação em memória."
      ]
    },
    {
      "cell_type": "markdown",
      "metadata": {},
      "source": [
        "#### 3.3.3. Padrão de nomes de variáveis\n",
        "É importante usar nomes de variáveis descritivos, que façam do próprio código sua documentação. A seguir estão as regras gerais para nomenclatura de variáveis em python:\n",
        "\n",
        "- Um nome de variável deve iniciar com uma letra ou traço baixo (underscore _). Não pode começar com número.\n",
        "- Só deve conter letras, em caixa baixa (minúsculos) ou caixa alta (maíusculas), dígitos e traço baixo.\n",
        "\n",
        "A seguir alguns nomes válidos:"
      ]
    },
    {
      "cell_type": "code",
      "execution_count": null,
      "metadata": {},
      "outputs": [],
      "source": [
        "a_variable = 23\n",
        "is_today_Saturday = False\n",
        "my_favorite_car = \"Delorean\"\n",
        "the_3_musketeers = [\"Athos\", \"Porthos\", \"Aramis\"] "
      ]
    },
    {
      "cell_type": "markdown",
      "metadata": {},
      "source": [
        "#### 3.3.4. Tipos e Métodos da linguagem\n",
        "Alguns tipos de dados e métodos existem por padrão na linguagem.\n",
        "\n",
        "- type(obj): identifica o tipo de um objeto\n",
        "- range(inicio, fim): cria uma lista com os números desde o início até o fim, sem incluir o fim."
      ]
    },
    {
      "cell_type": "code",
      "execution_count": null,
      "metadata": {},
      "outputs": [],
      "source": [
        "print(list(range(1,10)))"
      ]
    },
    {
      "cell_type": "markdown",
      "metadata": {
        "id": "Odbc6boQQdC4"
      },
      "source": [
        "# Referências\n",
        "\n",
        "1. https://nustat.github.io/DataScience_Intro_python/Introduction%20to%20Python%20and%20Jupyter%20Notebooks.html#:~:text=1%20Introduction%20to%20Python%20and%20Jupyter%20Notebooks%201,Python%20language%20basics%201.3.1%20Object%20Oriented%20Programming%20\n",
        "\n"
      ]
    }
  ],
  "metadata": {
    "colab": {
      "provenance": [],
      "toc_visible": true
    },
    "kernelspec": {
      "display_name": "Python 3",
      "name": "python3"
    },
    "language_info": {
      "codemirror_mode": {
        "name": "ipython",
        "version": 3
      },
      "file_extension": ".py",
      "mimetype": "text/x-python",
      "name": "python",
      "nbconvert_exporter": "python",
      "pygments_lexer": "ipython3",
      "version": "3.9.6"
    }
  },
  "nbformat": 4,
  "nbformat_minor": 0
}
